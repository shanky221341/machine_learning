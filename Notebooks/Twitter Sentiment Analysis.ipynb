{
 "cells": [
  {
   "cell_type": "code",
   "execution_count": 1,
   "metadata": {
    "collapsed": true
   },
   "outputs": [],
   "source": [
    "import pandas as pd\n",
    "import sys\n",
    "import matplotlib.pyplot as plt\n",
    "pd.options.display.max_columns=1000\n",
    "pd.set_option('display.max_colwidth', -1)\n",
    "sys.path.insert(0, \"C:\\\\Users\\\\vberlia\\\\Documents\\\\machine_learning\")"
   ]
  },
  {
   "cell_type": "code",
   "execution_count": 2,
   "metadata": {},
   "outputs": [
    {
     "name": "stderr",
     "output_type": "stream",
     "text": [
      "C:\\Users\\vberlia\\AppData\\Local\\Continuum\\Anaconda3\\lib\\site-packages\\ggplot\\utils.py:81: FutureWarning: pandas.tslib is deprecated and will be removed in a future version.\n",
      "You can access Timestamp as pandas.Timestamp\n",
      "  pd.tslib.Timestamp,\n",
      "C:\\Users\\vberlia\\AppData\\Local\\Continuum\\Anaconda3\\lib\\site-packages\\ggplot\\stats\\smoothers.py:4: FutureWarning: The pandas.lib module is deprecated and will be removed in a future version. These are private functions and can be accessed from pandas._libs.lib instead\n",
      "  from pandas.lib import Timestamp\n",
      "C:\\Users\\vberlia\\AppData\\Local\\Continuum\\Anaconda3\\lib\\site-packages\\statsmodels\\compat\\pandas.py:56: FutureWarning: The pandas.core.datetools module is deprecated and will be removed in a future version. Please use the pandas.tseries module instead.\n",
      "  from pandas.core import datetools\n"
     ]
    }
   ],
   "source": [
    "from machineLearning.dataSummary import DataSummary\n",
    "from machineLearning.visualizations import Visualization\n",
    "from machineLearning.missingValues import MissingValue\n",
    "from machineLearning.models import Model\n",
    "from machineLearning.modelInputs import KNNInputs\n",
    "from machineLearning.pipelines import Pipelines\n",
    "from machineLearning.featureCreation import CreateMeanLookupFeature\n",
    "from machineLearning.featureCreation import CreateMedianLookupFeature\n",
    "from machineLearning.misc import Misc\n",
    "from machineLearning.missingValues import CustomEncoder\n",
    "from sklearn.pipeline import Pipeline\n",
    "from sklearn.model_selection import train_test_split\n",
    "import ggplot\n",
    "from ggplot import *\n",
    "import numpy as np"
   ]
  },
  {
   "cell_type": "code",
   "execution_count": 5,
   "metadata": {},
   "outputs": [
    {
     "name": "stderr",
     "output_type": "stream",
     "text": [
      "b'Skipping line 8836: expected 4 fields, saw 5\\n'\n",
      "b'Skipping line 535882: expected 4 fields, saw 7\\n'\n"
     ]
    }
   ],
   "source": [
    "data=pd.read_csv(\"C:/Users/vberlia/Documents/data/Sentiment-Analysis-Dataset/Sentiment Analysis Dataset.csv\",encoding='latin1',error_bad_lines=False)"
   ]
  },
  {
   "cell_type": "code",
   "execution_count": 10,
   "metadata": {},
   "outputs": [
    {
     "data": {
      "text/plain": [
       "(1578612, 4)"
      ]
     },
     "execution_count": 10,
     "metadata": {},
     "output_type": "execute_result"
    }
   ],
   "source": [
    "data.shape"
   ]
  },
  {
   "cell_type": "code",
   "execution_count": 19,
   "metadata": {},
   "outputs": [
    {
     "data": {
      "text/plain": [
       "0.5005517505251449"
      ]
     },
     "execution_count": 19,
     "metadata": {},
     "output_type": "execute_result"
    }
   ],
   "source": [
    "DataSummary.returnFrequencyCounts(columns=['Sentiment'],data=data,normalize=True)['Sentiment'].iloc[0]['count']"
   ]
  },
  {
   "cell_type": "code",
   "execution_count": 9,
   "metadata": {},
   "outputs": [
    {
     "data": {
      "text/html": [
       "<div>\n",
       "<style>\n",
       "    .dataframe thead tr:only-child th {\n",
       "        text-align: right;\n",
       "    }\n",
       "\n",
       "    .dataframe thead th {\n",
       "        text-align: left;\n",
       "    }\n",
       "\n",
       "    .dataframe tbody tr th {\n",
       "        vertical-align: top;\n",
       "    }\n",
       "</style>\n",
       "<table border=\"1\" class=\"dataframe\">\n",
       "  <thead>\n",
       "    <tr style=\"text-align: right;\">\n",
       "      <th></th>\n",
       "      <th>ItemID</th>\n",
       "      <th>Sentiment</th>\n",
       "      <th>SentimentSource</th>\n",
       "      <th>SentimentText</th>\n",
       "    </tr>\n",
       "  </thead>\n",
       "  <tbody>\n",
       "    <tr>\n",
       "      <th>col_type</th>\n",
       "      <td>int64</td>\n",
       "      <td>int64</td>\n",
       "      <td>object</td>\n",
       "      <td>object</td>\n",
       "    </tr>\n",
       "    <tr>\n",
       "      <th>count_unique</th>\n",
       "      <td>1578612</td>\n",
       "      <td>2</td>\n",
       "      <td>2</td>\n",
       "      <td>1578612</td>\n",
       "    </tr>\n",
       "    <tr>\n",
       "      <th>unique_values</th>\n",
       "      <td>[1 2 3 ... 1578625 1578626 1578627]</td>\n",
       "      <td>[0 1]</td>\n",
       "      <td>['Sentiment140' 'Kaggle']</td>\n",
       "      <td>['                     is so sad for my APL friend.............'\\n '                   I missed the New Moon trailer...'\\n '              omg its already 7:30 :O' ...\\n 'ZzzZzZzzzZ... wait no I have homework. '\\n 'ZzZzzzZZZZzzz meh, what am I doing up again? '\\n 'Zzzzzzzzzzzzzzzzzzz, I wish ']</td>\n",
       "    </tr>\n",
       "    <tr>\n",
       "      <th>missing_count</th>\n",
       "      <td>0</td>\n",
       "      <td>0</td>\n",
       "      <td>0</td>\n",
       "      <td>0</td>\n",
       "    </tr>\n",
       "    <tr>\n",
       "      <th>count</th>\n",
       "      <td>1.57861e+06</td>\n",
       "      <td>1.57861e+06</td>\n",
       "      <td>NaN</td>\n",
       "      <td>NaN</td>\n",
       "    </tr>\n",
       "    <tr>\n",
       "      <th>mean</th>\n",
       "      <td>789320</td>\n",
       "      <td>0.500552</td>\n",
       "      <td>NaN</td>\n",
       "      <td>NaN</td>\n",
       "    </tr>\n",
       "    <tr>\n",
       "      <th>std</th>\n",
       "      <td>455707</td>\n",
       "      <td>0.5</td>\n",
       "      <td>NaN</td>\n",
       "      <td>NaN</td>\n",
       "    </tr>\n",
       "    <tr>\n",
       "      <th>min</th>\n",
       "      <td>1</td>\n",
       "      <td>0</td>\n",
       "      <td>NaN</td>\n",
       "      <td>NaN</td>\n",
       "    </tr>\n",
       "    <tr>\n",
       "      <th>25%</th>\n",
       "      <td>394666</td>\n",
       "      <td>0</td>\n",
       "      <td>NaN</td>\n",
       "      <td>NaN</td>\n",
       "    </tr>\n",
       "    <tr>\n",
       "      <th>50%(median)</th>\n",
       "      <td>789322</td>\n",
       "      <td>1</td>\n",
       "      <td>NaN</td>\n",
       "      <td>NaN</td>\n",
       "    </tr>\n",
       "    <tr>\n",
       "      <th>75%</th>\n",
       "      <td>1.18397e+06</td>\n",
       "      <td>1</td>\n",
       "      <td>NaN</td>\n",
       "      <td>NaN</td>\n",
       "    </tr>\n",
       "    <tr>\n",
       "      <th>max</th>\n",
       "      <td>1.57863e+06</td>\n",
       "      <td>1</td>\n",
       "      <td>NaN</td>\n",
       "      <td>NaN</td>\n",
       "    </tr>\n",
       "    <tr>\n",
       "      <th>mode</th>\n",
       "      <td>NaN</td>\n",
       "      <td>NaN</td>\n",
       "      <td>Sentiment140</td>\n",
       "      <td>exhausted</td>\n",
       "    </tr>\n",
       "  </tbody>\n",
       "</table>\n",
       "</div>"
      ],
      "text/plain": [
       "                                            ItemID    Sentiment  \\\n",
       "col_type       int64                                int64         \n",
       "count_unique   1578612                              2             \n",
       "unique_values  [1 2 3 ... 1578625 1578626 1578627]  [0 1]         \n",
       "missing_count  0                                    0             \n",
       "count          1.57861e+06                          1.57861e+06   \n",
       "mean           789320                               0.500552      \n",
       "std            455707                               0.5           \n",
       "min            1                                    0             \n",
       "25%            394666                               0             \n",
       "50%(median)    789322                               1             \n",
       "75%            1.18397e+06                          1             \n",
       "max            1.57863e+06                          1             \n",
       "mode           NaN                                  NaN           \n",
       "\n",
       "                         SentimentSource  \\\n",
       "col_type       object                      \n",
       "count_unique   2                           \n",
       "unique_values  ['Sentiment140' 'Kaggle']   \n",
       "missing_count  0                           \n",
       "count          NaN                         \n",
       "mean           NaN                         \n",
       "std            NaN                         \n",
       "min            NaN                         \n",
       "25%            NaN                         \n",
       "50%(median)    NaN                         \n",
       "75%            NaN                         \n",
       "max            NaN                         \n",
       "mode           Sentiment140                \n",
       "\n",
       "                                                                                                                                                                                                                                                                                                        SentimentText  \n",
       "col_type       object                                                                                                                                                                                                                                                                                                  \n",
       "count_unique   1578612                                                                                                                                                                                                                                                                                                 \n",
       "unique_values  ['                     is so sad for my APL friend.............'\\n '                   I missed the New Moon trailer...'\\n '              omg its already 7:30 :O' ...\\n 'ZzzZzZzzzZ... wait no I have homework. '\\n 'ZzZzzzZZZZzzz meh, what am I doing up again? '\\n 'Zzzzzzzzzzzzzzzzzzz, I wish ']  \n",
       "missing_count  0                                                                                                                                                                                                                                                                                                       \n",
       "count          NaN                                                                                                                                                                                                                                                                                                     \n",
       "mean           NaN                                                                                                                                                                                                                                                                                                     \n",
       "std            NaN                                                                                                                                                                                                                                                                                                     \n",
       "min            NaN                                                                                                                                                                                                                                                                                                     \n",
       "25%            NaN                                                                                                                                                                                                                                                                                                     \n",
       "50%(median)    NaN                                                                                                                                                                                                                                                                                                     \n",
       "75%            NaN                                                                                                                                                                                                                                                                                                     \n",
       "max            NaN                                                                                                                                                                                                                                                                                                     \n",
       "mode                                                      exhausted                                                                                                                                                                                                                                                    "
      ]
     },
     "execution_count": 9,
     "metadata": {},
     "output_type": "execute_result"
    }
   ],
   "source": [
    "DataSummary.returnSummaryDataFrame(data)"
   ]
  }
 ],
 "metadata": {
  "kernelspec": {
   "display_name": "Python 3",
   "language": "python",
   "name": "python3"
  },
  "language_info": {
   "codemirror_mode": {
    "name": "ipython",
    "version": 3
   },
   "file_extension": ".py",
   "mimetype": "text/x-python",
   "name": "python",
   "nbconvert_exporter": "python",
   "pygments_lexer": "ipython3",
   "version": "3.6.1"
  }
 },
 "nbformat": 4,
 "nbformat_minor": 2
}
