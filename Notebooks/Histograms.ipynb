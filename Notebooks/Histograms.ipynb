{
 "cells": [
  {
   "cell_type": "code",
   "execution_count": 1,
   "metadata": {
    "collapsed": true
   },
   "outputs": [],
   "source": [
    "import plotly\n",
    "plotly.tools.set_credentials_file(username='pauldipin', api_key='uyVMAumqAkawB7bkxodT')"
   ]
  },
  {
   "cell_type": "code",
   "execution_count": 2,
   "metadata": {
    "collapsed": true
   },
   "outputs": [],
   "source": [
    "import plotly\n",
    "plotly.tools.set_config_file(world_readable=True,\n",
    "                             sharing='public')"
   ]
  },
  {
   "cell_type": "code",
   "execution_count": null,
   "metadata": {
    "collapsed": true
   },
   "outputs": [],
   "source": [
    "data=pd.read_csv(\"C:/Users/vberlia/Documents/data_diabetes.txt\")"
   ]
  },
  {
   "cell_type": "code",
   "execution_count": 16,
   "metadata": {},
   "outputs": [],
   "source": [
    "import sys\n",
    "sys.path.insert(0, \"C:\\\\Users\\\\vberlia\\\\Documents\\\\machine_learning\")"
   ]
  },
  {
   "cell_type": "code",
   "execution_count": 17,
   "metadata": {
    "collapsed": true
   },
   "outputs": [],
   "source": [
    "from machineLearning.ploty_visualization import PlotlyVisualization\n",
    "import plotly.plotly as py"
   ]
  },
  {
   "cell_type": "code",
   "execution_count": 18,
   "metadata": {
    "collapsed": true
   },
   "outputs": [],
   "source": [
    "fig = PlotlyVisualization.createHistPlotForVarForBinaryClass1(data.dropna(), 'class', 'age', 'Non-Diabetic', 'Diabetic','Age Distribution')\n"
   ]
  },
  {
   "cell_type": "code",
   "execution_count": 20,
   "metadata": {},
   "outputs": [
    {
     "data": {
      "text/html": [
       "<iframe id=\"igraph\" scrolling=\"no\" style=\"border:none;\" seamless=\"seamless\" src=\"https://plot.ly/~pauldipin/42.embed\" height=\"525px\" width=\"100%\"></iframe>"
      ],
      "text/plain": [
       "<plotly.tools.PlotlyDisplay object>"
      ]
     },
     "execution_count": 20,
     "metadata": {},
     "output_type": "execute_result"
    }
   ],
   "source": [
    "py.iplot(fig, filename='overlaid histogram')"
   ]
  },
  {
   "cell_type": "code",
   "execution_count": 12,
   "metadata": {},
   "outputs": [],
   "source": [
    "import numpy as np\n",
    "import pandas as pd\n",
    "import matplotlib.pyplot as plt\n",
    "import plotly.plotly as py\n",
    "import plotly.graph_objs as go\n",
    "\n",
    "\n",
    "%matplotlib inline\n",
    "\n",
    "# data = pd.read_csv(r'C:\\Users\\Dipin.Singh\\Desktop\\Work\\Python Visualization\\train.csv')\n",
    "        \n",
    "def createHistPlotForVarForBinaryClass1(data, class_variable, numeric_variable, label_zero_meaning, label_1_meaning,title):\n",
    "    # Make a separate list\n",
    "    x1 = list(data[data[class_variable] == 0][numeric_variable])\n",
    "    x2 = list(data[data[class_variable] == 1][numeric_variable])\n",
    "    \n",
    "    trace1 = go.Histogram(\n",
    "        x=x1,\n",
    "        name=label_zero_meaning,\n",
    "        xbins=dict(\n",
    "            start=0,\n",
    "            end=100\n",
    "        ),\n",
    "        marker=dict(\n",
    "            color='#FFD7E9',\n",
    "        ),\n",
    "        opacity=0.75\n",
    "    )\n",
    "    trace2 = go.Histogram(\n",
    "        x=x2,\n",
    "        name=label_1_meaning,\n",
    "        xbins=dict(\n",
    "            start=0,\n",
    "            end=100\n",
    "        ),\n",
    "        marker=dict(\n",
    "            color='#EB89B5'\n",
    "        ),\n",
    "        opacity=0.75\n",
    "    )\n",
    "    data = [trace1, trace2]\n",
    "\n",
    "    layout = go.Layout(\n",
    "        title=title,\n",
    "        xaxis=dict(\n",
    "            title=numeric_variable\n",
    "        ),\n",
    "        yaxis=dict(\n",
    "            title='Frequency'\n",
    "        ),\n",
    "        bargap=0.2,\n",
    "        bargroupgap=0.1\n",
    "    )\n",
    "    fig = go.Figure(data=data, layout=layout)\n",
    "    return fig\n",
    "    \n",
    "    "
   ]
  },
  {
   "cell_type": "code",
   "execution_count": 14,
   "metadata": {},
   "outputs": [
    {
     "data": {
      "text/html": [
       "<iframe id=\"igraph\" scrolling=\"no\" style=\"border:none;\" seamless=\"seamless\" src=\"https://plot.ly/~pauldipin/42.embed\" height=\"525px\" width=\"100%\"></iframe>"
      ],
      "text/plain": [
       "<plotly.tools.PlotlyDisplay object>"
      ]
     },
     "execution_count": 14,
     "metadata": {},
     "output_type": "execute_result"
    }
   ],
   "source": [
    "fig = createHistPlotForVarForBinaryClass1(data.dropna(), 'class', 'age', 'Non-Diabetic', 'Diabetic','Age Distribution')\n",
    "py.iplot(fig, filename='overlaid histogram')"
   ]
  },
  {
   "cell_type": "code",
   "execution_count": 10,
   "metadata": {},
   "outputs": [
    {
     "data": {
      "text/html": [
       "<iframe id=\"igraph\" scrolling=\"no\" style=\"border:none;\" seamless=\"seamless\" src=\"https://plot.ly/~pauldipin/22.embed\" height=\"525px\" width=\"100%\"></iframe>"
      ],
      "text/plain": [
       "<plotly.tools.PlotlyDisplay object>"
      ]
     },
     "execution_count": 10,
     "metadata": {},
     "output_type": "execute_result"
    }
   ],
   "source": [
    "fig = createHistPlotForVarForBinaryClass1(data.dropna(), 'Survived', 'Sex', 'died_passengers', 'alive_passengers')\n",
    "py.iplot(fig, filename='styled histogram1')\n"
   ]
  },
  {
   "cell_type": "code",
   "execution_count": 11,
   "metadata": {
    "collapsed": true
   },
   "outputs": [],
   "source": [
    "import numpy as np\n",
    "import pandas as pd\n",
    "import matplotlib.pyplot as plt\n",
    "import plotly.plotly as py\n",
    "import plotly.graph_objs as go\n",
    "\n",
    "\n",
    "%matplotlib inline\n",
    "\n",
    "data = pd.read_csv(r'C:\\Users\\Dipin.Singh\\Desktop\\Work\\Python Visualization\\train.csv')\n",
    "        \n",
    "def createHistPlotForVarForBinaryClass2(data, Survive, Age, died_passengers, alive_passengers):\n",
    "    # Make a separate list\n",
    "    x1 = list(data[data[Survive] == 0][Age])\n",
    "    x2 = list(data[data[Survive] == 1][Age])\n",
    "    \n",
    "    trace1 = go.Histogram(\n",
    "        x=x1,\n",
    "        name='Died',\n",
    "        xbins=dict(\n",
    "            start=0,\n",
    "            end=100\n",
    "        ),\n",
    "        opacity=0.75\n",
    "    )\n",
    "    trace2 = go.Histogram(\n",
    "        x=x2,\n",
    "        name='Survived',\n",
    "        xbins=dict(\n",
    "            start=0,\n",
    "            end=100\n",
    "        ),\n",
    "        opacity=0.75\n",
    "    )\n",
    "    data = [trace1, trace2]\n",
    "\n",
    "    layout = go.Layout(\n",
    "        title='Age Histogram',\n",
    "        xaxis=dict(\n",
    "            title='Age'\n",
    "        ),\n",
    "        yaxis=dict(\n",
    "            title='Frequency'\n",
    "        ),\n",
    "        bargap=0.2,\n",
    "        bargroupgap=0.1,\n",
    "        barmode='overlay'\n",
    "    )\n",
    "    fig = go.Figure(data=data, layout=layout)\n",
    "    return fig\n",
    "    "
   ]
  },
  {
   "cell_type": "code",
   "execution_count": 5,
   "metadata": {},
   "outputs": [
    {
     "data": {
      "text/html": [
       "<div>\n",
       "<style>\n",
       "    .dataframe thead tr:only-child th {\n",
       "        text-align: right;\n",
       "    }\n",
       "\n",
       "    .dataframe thead th {\n",
       "        text-align: left;\n",
       "    }\n",
       "\n",
       "    .dataframe tbody tr th {\n",
       "        vertical-align: top;\n",
       "    }\n",
       "</style>\n",
       "<table border=\"1\" class=\"dataframe\">\n",
       "  <thead>\n",
       "    <tr style=\"text-align: right;\">\n",
       "      <th></th>\n",
       "      <th>num_of_tms preg</th>\n",
       "      <th>plasma_glucose</th>\n",
       "      <th>dstb</th>\n",
       "      <th>trcps_skin_thickness</th>\n",
       "      <th>serum_insulin</th>\n",
       "      <th>bmi</th>\n",
       "      <th>dbts_pedigree_func</th>\n",
       "      <th>age</th>\n",
       "      <th>class</th>\n",
       "    </tr>\n",
       "  </thead>\n",
       "  <tbody>\n",
       "    <tr>\n",
       "      <th>0</th>\n",
       "      <td>6</td>\n",
       "      <td>148</td>\n",
       "      <td>72</td>\n",
       "      <td>35</td>\n",
       "      <td>0</td>\n",
       "      <td>33.6</td>\n",
       "      <td>0.627</td>\n",
       "      <td>50</td>\n",
       "      <td>1</td>\n",
       "    </tr>\n",
       "    <tr>\n",
       "      <th>1</th>\n",
       "      <td>1</td>\n",
       "      <td>85</td>\n",
       "      <td>66</td>\n",
       "      <td>29</td>\n",
       "      <td>0</td>\n",
       "      <td>26.6</td>\n",
       "      <td>0.351</td>\n",
       "      <td>31</td>\n",
       "      <td>0</td>\n",
       "    </tr>\n",
       "    <tr>\n",
       "      <th>2</th>\n",
       "      <td>8</td>\n",
       "      <td>183</td>\n",
       "      <td>64</td>\n",
       "      <td>0</td>\n",
       "      <td>0</td>\n",
       "      <td>23.3</td>\n",
       "      <td>0.672</td>\n",
       "      <td>32</td>\n",
       "      <td>1</td>\n",
       "    </tr>\n",
       "    <tr>\n",
       "      <th>3</th>\n",
       "      <td>1</td>\n",
       "      <td>89</td>\n",
       "      <td>66</td>\n",
       "      <td>23</td>\n",
       "      <td>94</td>\n",
       "      <td>28.1</td>\n",
       "      <td>0.167</td>\n",
       "      <td>21</td>\n",
       "      <td>0</td>\n",
       "    </tr>\n",
       "    <tr>\n",
       "      <th>4</th>\n",
       "      <td>0</td>\n",
       "      <td>137</td>\n",
       "      <td>40</td>\n",
       "      <td>35</td>\n",
       "      <td>168</td>\n",
       "      <td>43.1</td>\n",
       "      <td>2.288</td>\n",
       "      <td>33</td>\n",
       "      <td>1</td>\n",
       "    </tr>\n",
       "  </tbody>\n",
       "</table>\n",
       "</div>"
      ],
      "text/plain": [
       "   num_of_tms preg  plasma_glucose  dstb  trcps_skin_thickness  serum_insulin  \\\n",
       "0                6             148    72                    35              0   \n",
       "1                1              85    66                    29              0   \n",
       "2                8             183    64                     0              0   \n",
       "3                1              89    66                    23             94   \n",
       "4                0             137    40                    35            168   \n",
       "\n",
       "    bmi  dbts_pedigree_func  age  class  \n",
       "0  33.6               0.627   50      1  \n",
       "1  26.6               0.351   31      0  \n",
       "2  23.3               0.672   32      1  \n",
       "3  28.1               0.167   21      0  \n",
       "4  43.1               2.288   33      1  "
      ]
     },
     "execution_count": 5,
     "metadata": {},
     "output_type": "execute_result"
    }
   ],
   "source": [
    "data.head()"
   ]
  },
  {
   "cell_type": "code",
   "execution_count": 6,
   "metadata": {},
   "outputs": [
    {
     "ename": "NameError",
     "evalue": "name 'createHistPlotForVarForBinaryClass2' is not defined",
     "traceback": [
      "\u001b[1;31m---------------------------------------------------------------------------\u001b[0m",
      "\u001b[1;31mNameError\u001b[0m                                 Traceback (most recent call last)",
      "\u001b[1;32m<ipython-input-6-3c8dc6e9d87f>\u001b[0m in \u001b[0;36m<module>\u001b[1;34m()\u001b[0m\n\u001b[1;32m----> 1\u001b[1;33m \u001b[0mfig\u001b[0m \u001b[1;33m=\u001b[0m \u001b[0mcreateHistPlotForVarForBinaryClass2\u001b[0m\u001b[1;33m(\u001b[0m\u001b[0mdata\u001b[0m\u001b[1;33m.\u001b[0m\u001b[0mdropna\u001b[0m\u001b[1;33m(\u001b[0m\u001b[1;33m)\u001b[0m\u001b[1;33m,\u001b[0m \u001b[1;34m'class'\u001b[0m\u001b[1;33m,\u001b[0m \u001b[1;34m'age'\u001b[0m\u001b[1;33m,\u001b[0m \u001b[1;34m'died_passengers'\u001b[0m\u001b[1;33m,\u001b[0m \u001b[1;34m'alive_passengers'\u001b[0m\u001b[1;33m)\u001b[0m\u001b[1;33m\u001b[0m\u001b[0m\n\u001b[0m\u001b[0;32m      2\u001b[0m \u001b[0mpy\u001b[0m\u001b[1;33m.\u001b[0m\u001b[0miplot\u001b[0m\u001b[1;33m(\u001b[0m\u001b[0mfig\u001b[0m\u001b[1;33m,\u001b[0m \u001b[0mfilename\u001b[0m\u001b[1;33m=\u001b[0m\u001b[1;34m'overlaid histogram'\u001b[0m\u001b[1;33m)\u001b[0m\u001b[1;33m\u001b[0m\u001b[0m\n",
      "\u001b[1;31mNameError\u001b[0m: name 'createHistPlotForVarForBinaryClass2' is not defined"
     ],
     "output_type": "error"
    }
   ],
   "source": [
    "fig = createHistPlotForVarForBinaryClass2(data.dropna(), 'class', 'age', 'died_passengers', 'alive_passengers')\n",
    "py.iplot(fig, filename='overlaid histogram')\n"
   ]
  },
  {
   "cell_type": "code",
   "execution_count": 5,
   "metadata": {
    "collapsed": true
   },
   "outputs": [],
   "source": [
    "import numpy as np\n",
    "import pandas as pd\n",
    "import matplotlib.pyplot as plt\n",
    "import plotly.plotly as py\n",
    "import plotly.graph_objs as go\n",
    "\n",
    "\n",
    "%matplotlib inline\n",
    "\n",
    "data = pd.read_csv(r'C:\\Users\\Dipin.Singh\\Desktop\\Work\\Python Visualization\\train.csv')\n",
    "        \n",
    "def createHistPlotForVarForBinaryClass3(data, Survived, Age, died_passengers, alive_passengers):\n",
    "    \"\"\"\n",
    "    \n",
    "    \"\"\"\n",
    "    # Make a separate list\n",
    "    x1 = list(data[data[Survived] == 0][Age])\n",
    "    x2 = list(data[data[Survived] == 1][Age])\n",
    "    \n",
    "    trace1 = go.Histogram(\n",
    "        x=x1,\n",
    "        name='Died',\n",
    "        xbins=dict(\n",
    "            start=0,\n",
    "            end=100\n",
    "        ),\n",
    "        opacity=0.75\n",
    "    )\n",
    "    trace2 = go.Histogram(\n",
    "        x=x2,\n",
    "        name='Survived',\n",
    "        xbins=dict(\n",
    "            start=0,\n",
    "            end=100\n",
    "        ),\n",
    "        opacity=0.75\n",
    "    )\n",
    "    data = [trace1, trace2]\n",
    "\n",
    "    layout = go.Layout(\n",
    "        title='Age Histogram',\n",
    "        xaxis=dict(\n",
    "            title='Age'\n",
    "        ),\n",
    "        yaxis=dict(\n",
    "            title='Frequency'\n",
    "        ),\n",
    "        bargap=0.2,\n",
    "        bargroupgap=0.1,\n",
    "        barmode='stack'\n",
    "    )\n",
    "    fig = go.Figure(data=data, layout=layout)\n",
    "    return fig"
   ]
  },
  {
   "cell_type": "code",
   "execution_count": 6,
   "metadata": {},
   "outputs": [
    {
     "data": {
      "text/html": [
       "<iframe id=\"igraph\" scrolling=\"no\" style=\"border:none;\" seamless=\"seamless\" src=\"https://plot.ly/~pauldipin/22.embed\" height=\"525px\" width=\"100%\"></iframe>"
      ],
      "text/plain": [
       "<plotly.tools.PlotlyDisplay object>"
      ]
     },
     "execution_count": 6,
     "metadata": {},
     "output_type": "execute_result"
    }
   ],
   "source": [
    "fig = createHistPlotForVarForBinaryClass3(data.dropna(), 'Survived', 'Age', 'died_passengers', 'alive_passengers')\n",
    "py.iplot(fig, filename='stacked histogram')\n"
   ]
  },
  {
   "cell_type": "code",
   "execution_count": 7,
   "metadata": {
    "collapsed": true
   },
   "outputs": [],
   "source": [
    "import numpy as np\n",
    "import pandas as pd\n",
    "import matplotlib.pyplot as plt\n",
    "import plotly.plotly as py\n",
    "import plotly.graph_objs as go\n",
    "\n",
    "\n",
    "%matplotlib inline\n",
    "\n",
    "data = pd.read_csv(r'C:\\Users\\Dipin.Singh\\Desktop\\Work\\Python Visualization\\train.csv')\n",
    "        \n",
    "def createHistPlotForVarForBinaryClass5(data, Survived, Age, died_passengers, alive_passengers):\n",
    "    # Make a separate list\n",
    "    x1 = list(data[data[Survived] == 0][Age])\n",
    "    x2 = list(data[data[Survived] == 1][Age])\n",
    "    \n",
    "    trace1 = go.Histogram(\n",
    "        x=x1,\n",
    "        name='Died',\n",
    "        xbins=dict(\n",
    "            start=0,\n",
    "            end=100\n",
    "        ),\n",
    "        opacity=0.75,\n",
    "        cumulative=dict(enabled=True)\n",
    "    )\n",
    "    trace2 = go.Histogram(\n",
    "        x=x2,\n",
    "        name='Survived',\n",
    "        xbins=dict(\n",
    "            start=0,\n",
    "            end=100\n",
    "        ),\n",
    "        opacity=0.75,\n",
    "        cumulative=dict(enabled=True)\n",
    "    )\n",
    "    data = [trace1, trace2]\n",
    "\n",
    "    layout = go.Layout(\n",
    "        title='Age Histogram',\n",
    "        xaxis=dict(\n",
    "            title='Age'\n",
    "        ),\n",
    "        yaxis=dict(\n",
    "            title='Frequency'\n",
    "        ),\n",
    "        bargap=0.2,\n",
    "        bargroupgap=0.1\n",
    "    )\n",
    "    fig = go.Figure(data=data, layout=layout)\n",
    "    return fig"
   ]
  },
  {
   "cell_type": "code",
   "execution_count": 8,
   "metadata": {},
   "outputs": [
    {
     "data": {
      "text/html": [
       "<iframe id=\"igraph\" scrolling=\"no\" style=\"border:none;\" seamless=\"seamless\" src=\"https://plot.ly/~pauldipin/22.embed\" height=\"525px\" width=\"100%\"></iframe>"
      ],
      "text/plain": [
       "<plotly.tools.PlotlyDisplay object>"
      ]
     },
     "execution_count": 8,
     "metadata": {},
     "output_type": "execute_result"
    }
   ],
   "source": [
    "fig = createHistPlotForVarForBinaryClass5(data.dropna(), 'Survived', 'Age', 'died_passengers', 'alive_passengers')\n",
    "py.iplot(fig, filename='cumulative histogram')"
   ]
  }
 ],
 "metadata": {
  "kernelspec": {
   "display_name": "Python 3",
   "language": "python",
   "name": "python3"
  },
  "language_info": {
   "codemirror_mode": {
    "name": "ipython",
    "version": 3
   },
   "file_extension": ".py",
   "mimetype": "text/x-python",
   "name": "python",
   "nbconvert_exporter": "python",
   "pygments_lexer": "ipython3",
   "version": "3.6.1"
  }
 },
 "nbformat": 4,
 "nbformat_minor": 2
}
