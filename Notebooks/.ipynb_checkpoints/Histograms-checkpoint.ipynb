{
 "cells": [
  {
   "cell_type": "code",
   "execution_count": 1,
   "metadata": {
    "collapsed": true
   },
   "outputs": [],
   "source": [
    "import plotly\n",
    "plotly.tools.set_credentials_file(username='pauldipin', api_key='uyVMAumqAkawB7bkxodT')"
   ]
  },
  {
   "cell_type": "code",
   "execution_count": 2,
   "metadata": {
    "collapsed": true
   },
   "outputs": [],
   "source": [
    "import plotly\n",
    "plotly.tools.set_config_file(world_readable=True,\n",
    "                             sharing='public')"
   ]
  },
  {
   "cell_type": "code",
   "execution_count": null,
   "metadata": {},
   "outputs": [],
   "source": [
    "import numpy as np\n",
    "import pandas as pd\n",
    "import matplotlib.pyplot as plt\n",
    "import plotly.plotly as py\n",
    "import plotly.graph_objs as go\n",
    "\n",
    "\n",
    "%matplotlib inline\n",
    "\n",
    "data = pd.read_csv(r'C:\\Users\\Dipin.Singh\\Desktop\\Work\\Python Visualization\\train.csv')\n",
    "        \n",
    "def createHistPlotForVarForBinaryClass1(data, Survived, Age, died_passengers, alive_passengers):\n",
    "    # Make a separate list\n",
    "    x1 = list(data[data[Survived] == 0][Age])\n",
    "    x2 = list(data[data[Survived] == 1][Age])\n",
    "    \n",
    "    trace1 = go.Histogram(\n",
    "        x=x1,\n",
    "        name='Died',\n",
    "        xbins=dict(\n",
    "            start=0,\n",
    "            end=100\n",
    "        ),\n",
    "        marker=dict(\n",
    "            color='#FFD7E9',\n",
    "        ),\n",
    "        opacity=0.75\n",
    "    )\n",
    "    trace2 = go.Histogram(\n",
    "        x=x2,\n",
    "        name='Survived',\n",
    "        xbins=dict(\n",
    "            start=0,\n",
    "            end=100\n",
    "        ),\n",
    "        marker=dict(\n",
    "            color='#EB89B5'\n",
    "        ),\n",
    "        opacity=0.75\n",
    "    )\n",
    "    data = [trace1, trace2]\n",
    "\n",
    "    layout = go.Layout(\n",
    "        title='Age Histogram',\n",
    "        xaxis=dict(\n",
    "            title='Age'\n",
    "        ),\n",
    "        yaxis=dict(\n",
    "            title='Frequency'\n",
    "        ),\n",
    "        bargap=0.2,\n",
    "        bargroupgap=0.1\n",
    "    )\n",
    "    fig = go.Figure(data=data, layout=layout)\n",
    "    return fig\n",
    "    \n",
    "    "
   ]
  },
  {
   "cell_type": "code",
   "execution_count": 10,
   "metadata": {},
   "outputs": [
    {
     "data": {
      "text/html": [
       "<iframe id=\"igraph\" scrolling=\"no\" style=\"border:none;\" seamless=\"seamless\" src=\"https://plot.ly/~pauldipin/22.embed\" height=\"525px\" width=\"100%\"></iframe>"
      ],
      "text/plain": [
       "<plotly.tools.PlotlyDisplay object>"
      ]
     },
     "execution_count": 10,
     "metadata": {},
     "output_type": "execute_result"
    }
   ],
   "source": [
    "fig = createHistPlotForVarForBinaryClass1(data.dropna(), 'Survived', 'Sex', 'died_passengers', 'alive_passengers')\n",
    "py.iplot(fig, filename='styled histogram1')\n"
   ]
  },
  {
   "cell_type": "code",
   "execution_count": 11,
   "metadata": {
    "collapsed": true
   },
   "outputs": [],
   "source": [
    "import numpy as np\n",
    "import pandas as pd\n",
    "import matplotlib.pyplot as plt\n",
    "import plotly.plotly as py\n",
    "import plotly.graph_objs as go\n",
    "\n",
    "\n",
    "%matplotlib inline\n",
    "\n",
    "data = pd.read_csv(r'C:\\Users\\Dipin.Singh\\Desktop\\Work\\Python Visualization\\train.csv')\n",
    "        \n",
    "def createHistPlotForVarForBinaryClass2(data, Survive, Age, died_passengers, alive_passengers):\n",
    "    # Make a separate list\n",
    "    x1 = list(data[data[Survive] == 0][Age])\n",
    "    x2 = list(data[data[Survive] == 1][Age])\n",
    "    \n",
    "    trace1 = go.Histogram(\n",
    "        x=x1,\n",
    "        name='Died',\n",
    "        xbins=dict(\n",
    "            start=0,\n",
    "            end=100\n",
    "        ),\n",
    "        opacity=0.75\n",
    "    )\n",
    "    trace2 = go.Histogram(\n",
    "        x=x2,\n",
    "        name='Survived',\n",
    "        xbins=dict(\n",
    "            start=0,\n",
    "            end=100\n",
    "        ),\n",
    "        opacity=0.75\n",
    "    )\n",
    "    data = [trace1, trace2]\n",
    "\n",
    "    layout = go.Layout(\n",
    "        title='Age Histogram',\n",
    "        xaxis=dict(\n",
    "            title='Age'\n",
    "        ),\n",
    "        yaxis=dict(\n",
    "            title='Frequency'\n",
    "        ),\n",
    "        bargap=0.2,\n",
    "        bargroupgap=0.1,\n",
    "        barmode='overlay'\n",
    "    )\n",
    "    fig = go.Figure(data=data, layout=layout)\n",
    "    return fig\n",
    "    "
   ]
  },
  {
   "cell_type": "code",
   "execution_count": 12,
   "metadata": {},
   "outputs": [
    {
     "data": {
      "text/html": [
       "<iframe id=\"igraph\" scrolling=\"no\" style=\"border:none;\" seamless=\"seamless\" src=\"https://plot.ly/~pauldipin/42.embed\" height=\"525px\" width=\"100%\"></iframe>"
      ],
      "text/plain": [
       "<plotly.tools.PlotlyDisplay object>"
      ]
     },
     "execution_count": 12,
     "metadata": {},
     "output_type": "execute_result"
    }
   ],
   "source": [
    "fig = createHistPlotForVarForBinaryClass2(data.dropna(), 'Survived', 'Sex', 'died_passengers', 'alive_passengers')\n",
    "py.iplot(fig, filename='overlaid histogram')\n"
   ]
  },
  {
   "cell_type": "code",
   "execution_count": 5,
   "metadata": {
    "collapsed": true
   },
   "outputs": [],
   "source": [
    "import numpy as np\n",
    "import pandas as pd\n",
    "import matplotlib.pyplot as plt\n",
    "import plotly.plotly as py\n",
    "import plotly.graph_objs as go\n",
    "\n",
    "\n",
    "%matplotlib inline\n",
    "\n",
    "data = pd.read_csv(r'C:\\Users\\Dipin.Singh\\Desktop\\Work\\Python Visualization\\train.csv')\n",
    "        \n",
    "def createHistPlotForVarForBinaryClass3(data, Survived, Age, died_passengers, alive_passengers):\n",
    "    \"\"\"\n",
    "    \n",
    "    \"\"\"\n",
    "    # Make a separate list\n",
    "    x1 = list(data[data[Survived] == 0][Age])\n",
    "    x2 = list(data[data[Survived] == 1][Age])\n",
    "    \n",
    "    trace1 = go.Histogram(\n",
    "        x=x1,\n",
    "        name='Died',\n",
    "        xbins=dict(\n",
    "            start=0,\n",
    "            end=100\n",
    "        ),\n",
    "        opacity=0.75\n",
    "    )\n",
    "    trace2 = go.Histogram(\n",
    "        x=x2,\n",
    "        name='Survived',\n",
    "        xbins=dict(\n",
    "            start=0,\n",
    "            end=100\n",
    "        ),\n",
    "        opacity=0.75\n",
    "    )\n",
    "    data = [trace1, trace2]\n",
    "\n",
    "    layout = go.Layout(\n",
    "        title='Age Histogram',\n",
    "        xaxis=dict(\n",
    "            title='Age'\n",
    "        ),\n",
    "        yaxis=dict(\n",
    "            title='Frequency'\n",
    "        ),\n",
    "        bargap=0.2,\n",
    "        bargroupgap=0.1,\n",
    "        barmode='stack'\n",
    "    )\n",
    "    fig = go.Figure(data=data, layout=layout)\n",
    "    return fig"
   ]
  },
  {
   "cell_type": "code",
   "execution_count": 6,
   "metadata": {},
   "outputs": [
    {
     "data": {
      "text/html": [
       "<iframe id=\"igraph\" scrolling=\"no\" style=\"border:none;\" seamless=\"seamless\" src=\"https://plot.ly/~pauldipin/22.embed\" height=\"525px\" width=\"100%\"></iframe>"
      ],
      "text/plain": [
       "<plotly.tools.PlotlyDisplay object>"
      ]
     },
     "execution_count": 6,
     "metadata": {},
     "output_type": "execute_result"
    }
   ],
   "source": [
    "fig = createHistPlotForVarForBinaryClass3(data.dropna(), 'Survived', 'Age', 'died_passengers', 'alive_passengers')\n",
    "py.iplot(fig, filename='stacked histogram')\n"
   ]
  },
  {
   "cell_type": "code",
   "execution_count": 7,
   "metadata": {
    "collapsed": true
   },
   "outputs": [],
   "source": [
    "import numpy as np\n",
    "import pandas as pd\n",
    "import matplotlib.pyplot as plt\n",
    "import plotly.plotly as py\n",
    "import plotly.graph_objs as go\n",
    "\n",
    "\n",
    "%matplotlib inline\n",
    "\n",
    "data = pd.read_csv(r'C:\\Users\\Dipin.Singh\\Desktop\\Work\\Python Visualization\\train.csv')\n",
    "        \n",
    "def createHistPlotForVarForBinaryClass5(data, Survived, Age, died_passengers, alive_passengers):\n",
    "    # Make a separate list\n",
    "    x1 = list(data[data[Survived] == 0][Age])\n",
    "    x2 = list(data[data[Survived] == 1][Age])\n",
    "    \n",
    "    trace1 = go.Histogram(\n",
    "        x=x1,\n",
    "        name='Died',\n",
    "        xbins=dict(\n",
    "            start=0,\n",
    "            end=100\n",
    "        ),\n",
    "        opacity=0.75,\n",
    "        cumulative=dict(enabled=True)\n",
    "    )\n",
    "    trace2 = go.Histogram(\n",
    "        x=x2,\n",
    "        name='Survived',\n",
    "        xbins=dict(\n",
    "            start=0,\n",
    "            end=100\n",
    "        ),\n",
    "        opacity=0.75,\n",
    "        cumulative=dict(enabled=True)\n",
    "    )\n",
    "    data = [trace1, trace2]\n",
    "\n",
    "    layout = go.Layout(\n",
    "        title='Age Histogram',\n",
    "        xaxis=dict(\n",
    "            title='Age'\n",
    "        ),\n",
    "        yaxis=dict(\n",
    "            title='Frequency'\n",
    "        ),\n",
    "        bargap=0.2,\n",
    "        bargroupgap=0.1\n",
    "    )\n",
    "    fig = go.Figure(data=data, layout=layout)\n",
    "    return fig"
   ]
  },
  {
   "cell_type": "code",
   "execution_count": 8,
   "metadata": {},
   "outputs": [
    {
     "data": {
      "text/html": [
       "<iframe id=\"igraph\" scrolling=\"no\" style=\"border:none;\" seamless=\"seamless\" src=\"https://plot.ly/~pauldipin/22.embed\" height=\"525px\" width=\"100%\"></iframe>"
      ],
      "text/plain": [
       "<plotly.tools.PlotlyDisplay object>"
      ]
     },
     "execution_count": 8,
     "metadata": {},
     "output_type": "execute_result"
    }
   ],
   "source": [
    "fig = createHistPlotForVarForBinaryClass5(data.dropna(), 'Survived', 'Age', 'died_passengers', 'alive_passengers')\n",
    "py.iplot(fig, filename='cumulative histogram')"
   ]
  }
 ],
 "metadata": {
  "kernelspec": {
   "display_name": "Python 3",
   "language": "python",
   "name": "python3"
  },
  "language_info": {
   "codemirror_mode": {
    "name": "ipython",
    "version": 3
   },
   "file_extension": ".py",
   "mimetype": "text/x-python",
   "name": "python",
   "nbconvert_exporter": "python",
   "pygments_lexer": "ipython3",
   "version": "3.6.1"
  }
 },
 "nbformat": 4,
 "nbformat_minor": 2
}
